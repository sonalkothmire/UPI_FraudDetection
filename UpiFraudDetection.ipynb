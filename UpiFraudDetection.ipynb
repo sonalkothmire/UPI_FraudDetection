{
 "cells": [
  {
   "cell_type": "markdown",
   "id": "3c8ebc43-e1ff-4e4e-8313-c7bc62ad0db9",
   "metadata": {},
   "source": [
    "Importing the libraries and dataset"
   ]
  },
  {
   "cell_type": "code",
   "execution_count": 52,
   "id": "a4b60b3d-a786-4103-a596-8dd6b73335b5",
   "metadata": {},
   "outputs": [],
   "source": [
    "import pandas as pd\n",
    "import matplotlib.pyplot as plt\n",
    "import seaborn as sns\n",
    "from sklearn.model_selection import train_test_split\n",
    "from sklearn.preprocessing import MinMaxScaler\n",
    "from sklearn.linear_model import LogisticRegression\n",
    "from sklearn.metrics import confusion_matrix, accuracy_score,classification_report, roc_curve, recall_score, precision_score"
   ]
  },
  {
   "cell_type": "markdown",
   "id": "4377bfd6-6309-4be8-8415-11c57abead11",
   "metadata": {},
   "source": [
    "Data exploration"
   ]
  },
  {
   "cell_type": "code",
   "execution_count": 53,
   "id": "4126d742-b6be-4097-a62b-ce0d5f052ab4",
   "metadata": {},
   "outputs": [],
   "source": [
    "data = pd.read_csv(\"E:\\\\UPIfrauddetection_Project\\\\Fraud_Detection.csv\")\n",
    " "
   ]
  },
  {
   "cell_type": "code",
   "execution_count": 54,
   "id": "6911513b-71ce-4164-b9a7-155c336c6c39",
   "metadata": {},
   "outputs": [
    {
     "data": {
      "text/html": [
       "<div>\n",
       "<style scoped>\n",
       "    .dataframe tbody tr th:only-of-type {\n",
       "        vertical-align: middle;\n",
       "    }\n",
       "\n",
       "    .dataframe tbody tr th {\n",
       "        vertical-align: top;\n",
       "    }\n",
       "\n",
       "    .dataframe thead th {\n",
       "        text-align: right;\n",
       "    }\n",
       "</style>\n",
       "<table border=\"1\" class=\"dataframe\">\n",
       "  <thead>\n",
       "    <tr style=\"text-align: right;\">\n",
       "      <th></th>\n",
       "      <th>step</th>\n",
       "      <th>type</th>\n",
       "      <th>amount</th>\n",
       "      <th>nameOrig</th>\n",
       "      <th>oldbalanceOrg</th>\n",
       "      <th>newbalanceOrig</th>\n",
       "      <th>nameDest</th>\n",
       "      <th>oldbalanceDest</th>\n",
       "      <th>newbalanceDest</th>\n",
       "      <th>isFraud</th>\n",
       "      <th>isFlaggedFraud</th>\n",
       "    </tr>\n",
       "  </thead>\n",
       "  <tbody>\n",
       "    <tr>\n",
       "      <th>0</th>\n",
       "      <td>1</td>\n",
       "      <td>PAYMENT</td>\n",
       "      <td>9839.64</td>\n",
       "      <td>C1231006815</td>\n",
       "      <td>170136.0</td>\n",
       "      <td>160296.36</td>\n",
       "      <td>M1979787155</td>\n",
       "      <td>0.0</td>\n",
       "      <td>0.0</td>\n",
       "      <td>0</td>\n",
       "      <td>0</td>\n",
       "    </tr>\n",
       "    <tr>\n",
       "      <th>1</th>\n",
       "      <td>1</td>\n",
       "      <td>PAYMENT</td>\n",
       "      <td>1864.28</td>\n",
       "      <td>C1666544295</td>\n",
       "      <td>21249.0</td>\n",
       "      <td>19384.72</td>\n",
       "      <td>M2044282225</td>\n",
       "      <td>0.0</td>\n",
       "      <td>0.0</td>\n",
       "      <td>0</td>\n",
       "      <td>0</td>\n",
       "    </tr>\n",
       "    <tr>\n",
       "      <th>2</th>\n",
       "      <td>1</td>\n",
       "      <td>TRANSFER</td>\n",
       "      <td>181.00</td>\n",
       "      <td>C1305486145</td>\n",
       "      <td>181.0</td>\n",
       "      <td>0.00</td>\n",
       "      <td>C553264065</td>\n",
       "      <td>0.0</td>\n",
       "      <td>0.0</td>\n",
       "      <td>1</td>\n",
       "      <td>0</td>\n",
       "    </tr>\n",
       "    <tr>\n",
       "      <th>3</th>\n",
       "      <td>1</td>\n",
       "      <td>CASH_OUT</td>\n",
       "      <td>181.00</td>\n",
       "      <td>C840083671</td>\n",
       "      <td>181.0</td>\n",
       "      <td>0.00</td>\n",
       "      <td>C38997010</td>\n",
       "      <td>21182.0</td>\n",
       "      <td>0.0</td>\n",
       "      <td>1</td>\n",
       "      <td>0</td>\n",
       "    </tr>\n",
       "    <tr>\n",
       "      <th>4</th>\n",
       "      <td>1</td>\n",
       "      <td>PAYMENT</td>\n",
       "      <td>11668.14</td>\n",
       "      <td>C2048537720</td>\n",
       "      <td>41554.0</td>\n",
       "      <td>29885.86</td>\n",
       "      <td>M1230701703</td>\n",
       "      <td>0.0</td>\n",
       "      <td>0.0</td>\n",
       "      <td>0</td>\n",
       "      <td>0</td>\n",
       "    </tr>\n",
       "  </tbody>\n",
       "</table>\n",
       "</div>"
      ],
      "text/plain": [
       "   step      type    amount     nameOrig  oldbalanceOrg  newbalanceOrig  \\\n",
       "0     1   PAYMENT   9839.64  C1231006815       170136.0       160296.36   \n",
       "1     1   PAYMENT   1864.28  C1666544295        21249.0        19384.72   \n",
       "2     1  TRANSFER    181.00  C1305486145          181.0            0.00   \n",
       "3     1  CASH_OUT    181.00   C840083671          181.0            0.00   \n",
       "4     1   PAYMENT  11668.14  C2048537720        41554.0        29885.86   \n",
       "\n",
       "      nameDest  oldbalanceDest  newbalanceDest  isFraud  isFlaggedFraud  \n",
       "0  M1979787155             0.0             0.0        0               0  \n",
       "1  M2044282225             0.0             0.0        0               0  \n",
       "2   C553264065             0.0             0.0        1               0  \n",
       "3    C38997010         21182.0             0.0        1               0  \n",
       "4  M1230701703             0.0             0.0        0               0  "
      ]
     },
     "execution_count": 54,
     "metadata": {},
     "output_type": "execute_result"
    }
   ],
   "source": [
    "data.head()"
   ]
  },
  {
   "cell_type": "code",
   "execution_count": 55,
   "id": "6e1c32c3-d962-4f20-92fd-8fe0acfb7467",
   "metadata": {},
   "outputs": [
    {
     "data": {
      "text/plain": [
       "(6362620, 11)"
      ]
     },
     "execution_count": 55,
     "metadata": {},
     "output_type": "execute_result"
    }
   ],
   "source": [
    "data.shape"
   ]
  },
  {
   "cell_type": "code",
   "execution_count": 56,
   "id": "6156845b-737a-46d4-b758-dadecf0fada8",
   "metadata": {},
   "outputs": [
    {
     "data": {
      "text/html": [
       "<div>\n",
       "<style scoped>\n",
       "    .dataframe tbody tr th:only-of-type {\n",
       "        vertical-align: middle;\n",
       "    }\n",
       "\n",
       "    .dataframe tbody tr th {\n",
       "        vertical-align: top;\n",
       "    }\n",
       "\n",
       "    .dataframe thead th {\n",
       "        text-align: right;\n",
       "    }\n",
       "</style>\n",
       "<table border=\"1\" class=\"dataframe\">\n",
       "  <thead>\n",
       "    <tr style=\"text-align: right;\">\n",
       "      <th></th>\n",
       "      <th>step</th>\n",
       "      <th>type</th>\n",
       "      <th>amount</th>\n",
       "      <th>customer_starting_transaction</th>\n",
       "      <th>bal_before_transaction</th>\n",
       "      <th>bal_after_transaction</th>\n",
       "      <th>recipient_of_transaction</th>\n",
       "      <th>bal_of_recepient_before_transaction</th>\n",
       "      <th>bal_of_receipient_after_transaction</th>\n",
       "      <th>fraud_transaction</th>\n",
       "      <th>isFlaggedFraud</th>\n",
       "    </tr>\n",
       "  </thead>\n",
       "  <tbody>\n",
       "    <tr>\n",
       "      <th>0</th>\n",
       "      <td>1</td>\n",
       "      <td>PAYMENT</td>\n",
       "      <td>9839.64</td>\n",
       "      <td>C1231006815</td>\n",
       "      <td>170136.0</td>\n",
       "      <td>160296.36</td>\n",
       "      <td>M1979787155</td>\n",
       "      <td>0.0</td>\n",
       "      <td>0.0</td>\n",
       "      <td>0</td>\n",
       "      <td>0</td>\n",
       "    </tr>\n",
       "    <tr>\n",
       "      <th>1</th>\n",
       "      <td>1</td>\n",
       "      <td>PAYMENT</td>\n",
       "      <td>1864.28</td>\n",
       "      <td>C1666544295</td>\n",
       "      <td>21249.0</td>\n",
       "      <td>19384.72</td>\n",
       "      <td>M2044282225</td>\n",
       "      <td>0.0</td>\n",
       "      <td>0.0</td>\n",
       "      <td>0</td>\n",
       "      <td>0</td>\n",
       "    </tr>\n",
       "    <tr>\n",
       "      <th>2</th>\n",
       "      <td>1</td>\n",
       "      <td>TRANSFER</td>\n",
       "      <td>181.00</td>\n",
       "      <td>C1305486145</td>\n",
       "      <td>181.0</td>\n",
       "      <td>0.00</td>\n",
       "      <td>C553264065</td>\n",
       "      <td>0.0</td>\n",
       "      <td>0.0</td>\n",
       "      <td>1</td>\n",
       "      <td>0</td>\n",
       "    </tr>\n",
       "    <tr>\n",
       "      <th>3</th>\n",
       "      <td>1</td>\n",
       "      <td>CASH_OUT</td>\n",
       "      <td>181.00</td>\n",
       "      <td>C840083671</td>\n",
       "      <td>181.0</td>\n",
       "      <td>0.00</td>\n",
       "      <td>C38997010</td>\n",
       "      <td>21182.0</td>\n",
       "      <td>0.0</td>\n",
       "      <td>1</td>\n",
       "      <td>0</td>\n",
       "    </tr>\n",
       "    <tr>\n",
       "      <th>4</th>\n",
       "      <td>1</td>\n",
       "      <td>PAYMENT</td>\n",
       "      <td>11668.14</td>\n",
       "      <td>C2048537720</td>\n",
       "      <td>41554.0</td>\n",
       "      <td>29885.86</td>\n",
       "      <td>M1230701703</td>\n",
       "      <td>0.0</td>\n",
       "      <td>0.0</td>\n",
       "      <td>0</td>\n",
       "      <td>0</td>\n",
       "    </tr>\n",
       "  </tbody>\n",
       "</table>\n",
       "</div>"
      ],
      "text/plain": [
       "   step      type    amount customer_starting_transaction  \\\n",
       "0     1   PAYMENT   9839.64                   C1231006815   \n",
       "1     1   PAYMENT   1864.28                   C1666544295   \n",
       "2     1  TRANSFER    181.00                   C1305486145   \n",
       "3     1  CASH_OUT    181.00                    C840083671   \n",
       "4     1   PAYMENT  11668.14                   C2048537720   \n",
       "\n",
       "   bal_before_transaction  bal_after_transaction recipient_of_transaction  \\\n",
       "0                170136.0              160296.36              M1979787155   \n",
       "1                 21249.0               19384.72              M2044282225   \n",
       "2                   181.0                   0.00               C553264065   \n",
       "3                   181.0                   0.00                C38997010   \n",
       "4                 41554.0               29885.86              M1230701703   \n",
       "\n",
       "   bal_of_recepient_before_transaction  bal_of_receipient_after_transaction  \\\n",
       "0                                  0.0                                  0.0   \n",
       "1                                  0.0                                  0.0   \n",
       "2                                  0.0                                  0.0   \n",
       "3                              21182.0                                  0.0   \n",
       "4                                  0.0                                  0.0   \n",
       "\n",
       "   fraud_transaction  isFlaggedFraud  \n",
       "0                  0               0  \n",
       "1                  0               0  \n",
       "2                  1               0  \n",
       "3                  1               0  \n",
       "4                  0               0  "
      ]
     },
     "execution_count": 56,
     "metadata": {},
     "output_type": "execute_result"
    }
   ],
   "source": [
    "data.rename(columns={'nameOrig':'customer_starting_transaction','oldbalanceOrg':'bal_before_transaction','newbalanceOrig':'bal_after_transaction','nameDest':'recipient_of_transaction','oldbalanceDest':'bal_of_recepient_before_transaction','newbalanceDest':'bal_of_receipient_after_transaction','isFraud':'fraud_transaction'},inplace= True)\n",
    "data.head()"
   ]
  },
  {
   "cell_type": "code",
   "execution_count": 57,
   "id": "193e9b9a-e6bc-4a6c-9b90-34b1d989d39b",
   "metadata": {},
   "outputs": [
    {
     "name": "stdout",
     "output_type": "stream",
     "text": [
      "<class 'pandas.core.frame.DataFrame'>\n",
      "RangeIndex: 6362620 entries, 0 to 6362619\n",
      "Data columns (total 11 columns):\n",
      " #   Column                               Dtype  \n",
      "---  ------                               -----  \n",
      " 0   step                                 int64  \n",
      " 1   type                                 object \n",
      " 2   amount                               float64\n",
      " 3   customer_starting_transaction        object \n",
      " 4   bal_before_transaction               float64\n",
      " 5   bal_after_transaction                float64\n",
      " 6   recipient_of_transaction             object \n",
      " 7   bal_of_recepient_before_transaction  float64\n",
      " 8   bal_of_receipient_after_transaction  float64\n",
      " 9   fraud_transaction                    int64  \n",
      " 10  isFlaggedFraud                       int64  \n",
      "dtypes: float64(5), int64(3), object(3)\n",
      "memory usage: 534.0+ MB\n"
     ]
    }
   ],
   "source": [
    "data.info()"
   ]
  },
  {
   "cell_type": "markdown",
   "id": "ec00519a-b0f6-452c-af14-c1a4902ede76",
   "metadata": {},
   "source": [
    "Dealing with missing values"
   ]
  },
  {
   "cell_type": "code",
   "execution_count": 58,
   "id": "59874883-f5a9-43f6-98d8-fa850ae7985e",
   "metadata": {},
   "outputs": [
    {
     "data": {
      "text/plain": [
       "step                                        0\n",
       "type                                   203603\n",
       "amount                                      0\n",
       "customer_starting_transaction          203603\n",
       "bal_before_transaction                      0\n",
       "bal_after_transaction                  267230\n",
       "recipient_of_transaction                    0\n",
       "bal_of_recepient_before_transaction    203603\n",
       "bal_of_receipient_after_transaction         0\n",
       "fraud_transaction                           0\n",
       "isFlaggedFraud                              0\n",
       "dtype: int64"
      ]
     },
     "execution_count": 58,
     "metadata": {},
     "output_type": "execute_result"
    }
   ],
   "source": [
    "data.isnull().sum()"
   ]
  },
  {
   "cell_type": "code",
   "execution_count": 60,
   "id": "f06eebbe-dc01-408f-ad7b-84a5484b540f",
   "metadata": {},
   "outputs": [],
   "source": [
    "data.dropna(inplace= True)"
   ]
  },
  {
   "cell_type": "code",
   "execution_count": 61,
   "id": "f87af4bc-6ef9-4128-8d8a-af56a3a227fb",
   "metadata": {},
   "outputs": [
    {
     "data": {
      "text/plain": [
       "(5900334, 11)"
      ]
     },
     "execution_count": 61,
     "metadata": {},
     "output_type": "execute_result"
    }
   ],
   "source": [
    "data.shape"
   ]
  },
  {
   "cell_type": "code",
   "execution_count": 62,
   "id": "55c19cdd-e448-420b-ad35-f42ca312eaf5",
   "metadata": {},
   "outputs": [
    {
     "data": {
      "text/plain": [
       "array(['PAYMENT', 'TRANSFER', 'CASH_OUT', 'DEBIT', 'CASH_IN'],\n",
       "      dtype=object)"
      ]
     },
     "execution_count": 62,
     "metadata": {},
     "output_type": "execute_result"
    }
   ],
   "source": [
    "data['type'].unique()"
   ]
  },
  {
   "cell_type": "code",
   "execution_count": 63,
   "id": "88351e7f-4589-4b51-a500-400ca6920efd",
   "metadata": {},
   "outputs": [],
   "source": [
    "data['type'].replace(['PAYMENT', 'TRANSFER', 'CASH_OUT', 'DEBIT', 'CASH_IN'],[1,2,3,4,5],inplace=True)"
   ]
  },
  {
   "cell_type": "code",
   "execution_count": null,
   "id": "2f13b42a-6f80-400c-aecc-83dfe879a77d",
   "metadata": {},
   "outputs": [],
   "source": []
  },
  {
   "cell_type": "code",
   "execution_count": 64,
   "id": "27229399-5245-43ef-967e-3db965d8ab7b",
   "metadata": {},
   "outputs": [
    {
     "data": {
      "text/html": [
       "<div>\n",
       "<style scoped>\n",
       "    .dataframe tbody tr th:only-of-type {\n",
       "        vertical-align: middle;\n",
       "    }\n",
       "\n",
       "    .dataframe tbody tr th {\n",
       "        vertical-align: top;\n",
       "    }\n",
       "\n",
       "    .dataframe thead th {\n",
       "        text-align: right;\n",
       "    }\n",
       "</style>\n",
       "<table border=\"1\" class=\"dataframe\">\n",
       "  <thead>\n",
       "    <tr style=\"text-align: right;\">\n",
       "      <th></th>\n",
       "      <th>step</th>\n",
       "      <th>type</th>\n",
       "      <th>amount</th>\n",
       "      <th>customer_starting_transaction</th>\n",
       "      <th>bal_before_transaction</th>\n",
       "      <th>bal_after_transaction</th>\n",
       "      <th>recipient_of_transaction</th>\n",
       "      <th>bal_of_recepient_before_transaction</th>\n",
       "      <th>bal_of_receipient_after_transaction</th>\n",
       "      <th>fraud_transaction</th>\n",
       "      <th>isFlaggedFraud</th>\n",
       "    </tr>\n",
       "  </thead>\n",
       "  <tbody>\n",
       "    <tr>\n",
       "      <th>0</th>\n",
       "      <td>1</td>\n",
       "      <td>1</td>\n",
       "      <td>9839.64</td>\n",
       "      <td>C1231006815</td>\n",
       "      <td>170136.0</td>\n",
       "      <td>160296.36</td>\n",
       "      <td>M1979787155</td>\n",
       "      <td>0.0</td>\n",
       "      <td>0.0</td>\n",
       "      <td>0</td>\n",
       "      <td>0</td>\n",
       "    </tr>\n",
       "    <tr>\n",
       "      <th>1</th>\n",
       "      <td>1</td>\n",
       "      <td>1</td>\n",
       "      <td>1864.28</td>\n",
       "      <td>C1666544295</td>\n",
       "      <td>21249.0</td>\n",
       "      <td>19384.72</td>\n",
       "      <td>M2044282225</td>\n",
       "      <td>0.0</td>\n",
       "      <td>0.0</td>\n",
       "      <td>0</td>\n",
       "      <td>0</td>\n",
       "    </tr>\n",
       "    <tr>\n",
       "      <th>2</th>\n",
       "      <td>1</td>\n",
       "      <td>2</td>\n",
       "      <td>181.00</td>\n",
       "      <td>C1305486145</td>\n",
       "      <td>181.0</td>\n",
       "      <td>0.00</td>\n",
       "      <td>C553264065</td>\n",
       "      <td>0.0</td>\n",
       "      <td>0.0</td>\n",
       "      <td>1</td>\n",
       "      <td>0</td>\n",
       "    </tr>\n",
       "    <tr>\n",
       "      <th>3</th>\n",
       "      <td>1</td>\n",
       "      <td>3</td>\n",
       "      <td>181.00</td>\n",
       "      <td>C840083671</td>\n",
       "      <td>181.0</td>\n",
       "      <td>0.00</td>\n",
       "      <td>C38997010</td>\n",
       "      <td>21182.0</td>\n",
       "      <td>0.0</td>\n",
       "      <td>1</td>\n",
       "      <td>0</td>\n",
       "    </tr>\n",
       "    <tr>\n",
       "      <th>4</th>\n",
       "      <td>1</td>\n",
       "      <td>1</td>\n",
       "      <td>11668.14</td>\n",
       "      <td>C2048537720</td>\n",
       "      <td>41554.0</td>\n",
       "      <td>29885.86</td>\n",
       "      <td>M1230701703</td>\n",
       "      <td>0.0</td>\n",
       "      <td>0.0</td>\n",
       "      <td>0</td>\n",
       "      <td>0</td>\n",
       "    </tr>\n",
       "  </tbody>\n",
       "</table>\n",
       "</div>"
      ],
      "text/plain": [
       "   step  type    amount customer_starting_transaction  bal_before_transaction  \\\n",
       "0     1     1   9839.64                   C1231006815                170136.0   \n",
       "1     1     1   1864.28                   C1666544295                 21249.0   \n",
       "2     1     2    181.00                   C1305486145                   181.0   \n",
       "3     1     3    181.00                    C840083671                   181.0   \n",
       "4     1     1  11668.14                   C2048537720                 41554.0   \n",
       "\n",
       "   bal_after_transaction recipient_of_transaction  \\\n",
       "0              160296.36              M1979787155   \n",
       "1               19384.72              M2044282225   \n",
       "2                   0.00               C553264065   \n",
       "3                   0.00                C38997010   \n",
       "4               29885.86              M1230701703   \n",
       "\n",
       "   bal_of_recepient_before_transaction  bal_of_receipient_after_transaction  \\\n",
       "0                                  0.0                                  0.0   \n",
       "1                                  0.0                                  0.0   \n",
       "2                                  0.0                                  0.0   \n",
       "3                              21182.0                                  0.0   \n",
       "4                                  0.0                                  0.0   \n",
       "\n",
       "   fraud_transaction  isFlaggedFraud  \n",
       "0                  0               0  \n",
       "1                  0               0  \n",
       "2                  1               0  \n",
       "3                  1               0  \n",
       "4                  0               0  "
      ]
     },
     "execution_count": 64,
     "metadata": {},
     "output_type": "execute_result"
    }
   ],
   "source": [
    "data.head()"
   ]
  },
  {
   "cell_type": "code",
   "execution_count": 67,
   "id": "bd6c4581-8db5-4c2a-8f45-dc276c3aa8f7",
   "metadata": {},
   "outputs": [
    {
     "data": {
      "image/png": "[encoded data removed]",
      "text/plain": [
       "<Figure size 1000x600 with 1 Axes>"
      ]
     },
     "metadata": {},
     "output_type": "display_data"
    }
   ],
   "source": [
    "plt.figure(figsize=(10, 6))\n",
    "sns.countplot(x='type', data=data)\n",
    "plt.title('Count of Transaction Types')\n",
    "plt.xlabel('Transaction Type')\n",
    "plt.ylabel('Count')\n",
    "plt.show()"
   ]
  },
  {
   "cell_type": "code",
   "execution_count": 69,
   "id": "333529c3-8c36-44cf-855e-3ffe6647aaee",
   "metadata": {},
   "outputs": [
    {
     "data": {
      "image/png": "[encoded data removed]",
      "text/plain": [
       "<Figure size 1000x600 with 1 Axes>"
      ]
     },
     "metadata": {},
     "output_type": "display_data"
    }
   ],
   "source": [
    "# Boxplot of transaction amount by fraud status\n",
    "plt.figure(figsize=(10, 6))\n",
    "sns.boxplot(x='fraud_transaction', y='amount', data=data)\n",
    "plt.title('Transaction Amount by Fraud Status')\n",
    "plt.xlabel('Fraud Status')\n",
    "plt.ylabel('Amount')\n",
    "plt.show()"
   ]
  },
  {
   "cell_type": "code",
   "execution_count": null,
   "id": "a0f34403-46c2-4d61-bfe9-93f6a663e7ee",
   "metadata": {},
   "outputs": [],
   "source": [
    "plt.figure(figsize=(10, 6)) \n",
    "sns.scatterplot(x='bal_before_transaction', y='bal_after_transaction', hue='fraud_transaction', data=data) \n",
    "plt.title('before transaction vs. after transaction (Origin)') \n",
    "plt.xlabel('before transaction (Origin)') \n",
    "plt.ylabel('after transaction (Origin)') \n",
    "plt.show()"
   ]
  },
  {
   "cell_type": "code",
   "execution_count": null,
   "id": "2eac09a3-4d0c-488f-83d4-b1bd84035e79",
   "metadata": {},
   "outputs": [],
   "source": [
    "# create a function that properly labels isFraud\n",
    "\n",
    "def Fraud (x):\n",
    "    if x ==1:\n",
    "        return \"Fraudulent\"\n",
    "    else:\n",
    "        return \"not Fraudulent\"\n",
    "    \n",
    "# create a new column\n",
    "data[\"fraud_transaction_label\"] = data[\"fraud_transaction\"].apply(Fraud)"
   ]
  },
  {
   "cell_type": "code",
   "execution_count": null,
   "id": "62659f9a-607d-4094-8903-576e04cb1084",
   "metadata": {},
   "outputs": [],
   "source": [
    "data.drop(columns=['step','isFlaggedFraud', 'customer_starting_transaction', 'recipient_of_transaction','fraud_transaction_label'], inplace=True)"
   ]
  },
  {
   "cell_type": "code",
   "execution_count": null,
   "id": "089c91cf-7d93-4faa-b1a1-eb644a76f710",
   "metadata": {},
   "outputs": [],
   "source": [
    "data.head()"
   ]
  },
  {
   "cell_type": "code",
   "execution_count": null,
   "id": "df2b6c0d-0904-47b7-8863-dd947dc967d5",
   "metadata": {},
   "outputs": [],
   "source": [
    "#heatmap\n",
    "data_plot = sns.heatmap(data.corr(), cmap=\"YlGnBu\", annot=True)"
   ]
  },
  {
   "cell_type": "code",
   "execution_count": null,
   "id": "1a071b64-7cec-4e3b-90ff-d692e6fa9997",
   "metadata": {
    "scrolled": true
   },
   "outputs": [],
   "source": [
    "data.corr()"
   ]
  },
  {
   "cell_type": "markdown",
   "id": "94b3db3b-4f42-4693-a4f7-6f656b888e17",
   "metadata": {},
   "source": [
    "Splitting the dataset & Feature scalling"
   ]
  },
  {
   "cell_type": "code",
   "execution_count": null,
   "id": "0d417753-8d13-423b-92e0-cae8c75eb689",
   "metadata": {},
   "outputs": [],
   "source": [
    "\n",
    "y = data['fraud_transaction']\n",
    "x = data.drop('fraud_transaction', axis=1)\n",
    "features = list(x.columns)\n",
    "x_train, x_test, y_train, y_test = train_test_split(x, y, test_size=0.2, random_state=123)\n",
    "scaler = MinMaxScaler()\n",
    "x_train = scaler.fit_transform(x_train)\n",
    "x_test = scaler.fit_transform(x_test)\n",
    "return x_train, x_test, y_train, y_test, features"
   ]
  },
  {
   "cell_type": "code",
   "execution_count": null,
   "id": "23a66782-78ad-457d-bad1-c2390e86d52d",
   "metadata": {},
   "outputs": [],
   "source": [
    "x_train, x_test, y_train, y_test, features = train_test_split_scale(data)"
   ]
  },
  {
   "cell_type": "code",
   "execution_count": null,
   "id": "3c80e0f8-84b2-4494-b85b-0e0ef3aee24a",
   "metadata": {},
   "outputs": [],
   "source": [
    "x_train.shape"
   ]
  },
  {
   "cell_type": "code",
   "execution_count": null,
   "id": "994aedb3-5c99-41a9-b34a-3fe11ffb4297",
   "metadata": {},
   "outputs": [],
   "source": [
    "x_test.shape"
   ]
  },
  {
   "cell_type": "code",
   "execution_count": null,
   "id": "6b834fc6-4b6f-418e-af67-e38dbe4f729e",
   "metadata": {},
   "outputs": [],
   "source": [
    "y_train.shape"
   ]
  },
  {
   "cell_type": "code",
   "execution_count": null,
   "id": "dbb5eec7-1b69-4459-9006-2277959a46f8",
   "metadata": {},
   "outputs": [],
   "source": [
    "y_test.shape"
   ]
  },
  {
   "cell_type": "code",
   "execution_count": null,
   "id": "d1c875b9-fbde-4ef4-9480-0827989b8e6f",
   "metadata": {},
   "outputs": [],
   "source": [
    "def fit_evaluate(x_train,x_test, y_train, y_test, class_weight = None):\n",
    "    lr = LogisticRegression(class_weight = class_weight)\n",
    "    model = lr.fit(x_train, y_train)\n",
    "    y_pred_train = model.predict(x_train)\n",
    "    y_pred = model.predict(x_test)\n",
    "    print(\"Training Accuracy of the Model\",accuracy_score(y_train, y_pred_train))\n",
    "    print(\"Testing Accuracy of the Model\",accuracy_score(y_test, y_pred))\n",
    "    print(\"Testing Recall of the Model\",recall_score(y_test, y_pred))\n",
    "    print(\"Testing Precision of the Model\",precision_score(y_test, y_pred))\n",
    "    conf_matrix = confusion_matrix(y_test, y_pred)\n",
    "    print(\"Confusion Matrix\", conf_matrix)\n",
    "    print(\"Classification Report\",classification_report(y_test, y_pred))\n",
    "    return model\n"
   ]
  },
  {
   "cell_type": "markdown",
   "id": "100af388-8049-4839-b97f-07e118fcf249",
   "metadata": {},
   "source": [
    "Fit and evaluate the model"
   ]
  },
  {
   "cell_type": "code",
   "execution_count": null,
   "id": "8293916b-ec15-4a56-a22c-c713a51eacea",
   "metadata": {},
   "outputs": [],
   "source": [
    "lr = LogisticRegression()\n",
    "model = lr.fit(x_train, y_train)"
   ]
  },
  {
   "cell_type": "code",
   "execution_count": null,
   "id": "576836e1-d89a-41a9-88e6-fc1a0fd0b772",
   "metadata": {},
   "outputs": [],
   "source": [
    "y_pred = model.predict(x_test)"
   ]
  },
  {
   "cell_type": "code",
   "execution_count": null,
   "id": "7a5de047-08a5-4286-b2de-3f1a40138c12",
   "metadata": {},
   "outputs": [],
   "source": [
    "conf_matrix = confusion_matrix(y_test, y_pred)"
   ]
  },
  {
   "cell_type": "code",
   "execution_count": null,
   "id": "78a4f104-5f68-469a-92e7-d73c9bce94ec",
   "metadata": {},
   "outputs": [],
   "source": [
    "conf_matrix"
   ]
  },
  {
   "cell_type": "code",
   "execution_count": null,
   "id": "8da98e04-8b7c-4653-a6d7-0a6828e20562",
   "metadata": {},
   "outputs": [],
   "source": [
    "print(classification_report(y_test, y_pred))"
   ]
  },
  {
   "cell_type": "code",
   "execution_count": null,
   "id": "6eacb68d-19b1-4a8a-9f9d-94842254407d",
   "metadata": {},
   "outputs": [],
   "source": [
    "accuracy_score(y_test, y_pred)"
   ]
  },
  {
   "cell_type": "code",
   "execution_count": null,
   "id": "16faad45-b96b-4432-9723-72c887bddf4a",
   "metadata": {},
   "outputs": [],
   "source": [
    "fit_evaluate(x_train,x_test, y_train, y_test,class_weight = None)"
   ]
  },
  {
   "cell_type": "code",
   "execution_count": null,
   "id": "0a1d9b73-edc3-4a2b-858a-a11bb5cde460",
   "metadata": {},
   "outputs": [],
   "source": []
  },
  {
   "cell_type": "code",
   "execution_count": null,
   "id": "73824424-e5dc-4ef9-ae60-a48354ff466a",
   "metadata": {},
   "outputs": [],
   "source": [
    "import pickle as pkl"
   ]
  },
  {
   "cell_type": "code",
   "execution_count": null,
   "id": "33b3812d-d9d8-4c54-ba9c-ff1b97cdb25c",
   "metadata": {},
   "outputs": [],
   "source": [
    "pkl.dump(model,open('UPIfraud.pkl','wb'))"
   ]
  },
  {
   "cell_type": "code",
   "execution_count": null,
   "id": "53c43b39-afef-4b61-ac36-b43dfffaf86a",
   "metadata": {},
   "outputs": [],
   "source": [
    "pkl.dump(scaler,open('scaler.pkl','wb'))"
   ]
  },
  {
   "cell_type": "code",
   "execution_count": null,
   "id": "b5467be8-1201-4fb1-8314-59075344b3c3",
   "metadata": {},
   "outputs": [],
   "source": []
  },
  {
   "cell_type": "code",
   "execution_count": null,
   "id": "d64beb26-6a24-409d-b439-2770ab56b0b6",
   "metadata": {},
   "outputs": [],
   "source": []
  }
 ],
 "metadata": {
  "kernelspec": {
   "display_name": "Python 3 (ipykernel)",
   "language": "python",
   "name": "python3"
  },
  "language_info": {
   "codemirror_mode": {
    "name": "ipython",
    "version": 3
   },
   "file_extension": ".py",
   "mimetype": "text/x-python",
   "name": "python",
   "nbconvert_exporter": "python",
   "pygments_lexer": "ipython3",
   "version": "3.11.7"
  }
 },
 "nbformat": 4,
 "nbformat_minor": 5
}
